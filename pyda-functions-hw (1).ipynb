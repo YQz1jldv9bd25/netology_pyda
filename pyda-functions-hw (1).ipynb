{
 "cells": [
  {
   "cell_type": "markdown",
   "metadata": {},
   "source": [
    "## Задание 1"
   ]
  },
  {
   "cell_type": "markdown",
   "metadata": {},
   "source": [
    "Дан список вида:"
   ]
  },
  {
   "cell_type": "code",
   "execution_count": 1,
   "metadata": {},
   "outputs": [],
   "source": [
    "data = [\n",
    "    [13, 25, 23, 34],\n",
    "    [45, 32, 44, 47],\n",
    "    [12, 33, 23, 95],\n",
    "    [13, 53, 34, 35]\n",
    "]"
   ]
  },
  {
   "cell_type": "markdown",
   "metadata": {},
   "source": [
    "Напишите функцию, которая возвращает сумму элементов на диагонали. Т. е. 13+32+23+35.  \n",
    "Список может быть любой длины, но всегда является \"квадратным\" (количество элементов во вложенных списках равно их количеству)."
   ]
  },
  {
   "cell_type": "code",
   "execution_count": null,
   "metadata": {},
   "outputs": [],
   "source": [
    "data = [\n",
    "    [13, 25, 23, 34],\n",
    "    [45, 32, 44, 47],\n",
    "    [12, 33, 23, 95],\n",
    "    [13, 53, 34, 35]\n",
    "]\n",
    "#range(len(data))\n",
    "#print(range(len(data)))\n",
    "def adder(data):\n",
    "    #print(data)\n",
    "    a = 0\n",
    "    for i in range(len(data)):\n",
    "        #print(data [i][i])\n",
    "        a += data[i][i]\n",
    "    return a\n",
    "#print(a)\n",
    "print(adder(data))"
   ]
  },
  {
   "cell_type": "markdown",
   "metadata": {},
   "source": [
    "## Задание 2"
   ]
  },
  {
   "cell_type": "markdown",
   "metadata": {},
   "source": [
    "Напишите функцию, возвращающую сумму первых n чисел Фибоначчи (для этого вам может понадобится ознакомиться с рекурсией)."
   ]
  },
  {
   "cell_type": "code",
   "execution_count": null,
   "metadata": {},
   "outputs": [],
   "source": [
    "def fibonacci(n):\n",
    "    if n in (1, 2):\n",
    "        return 1\n",
    "    return fibonacci(n - 1) + fibonacci(n - 2) \n",
    "print(fibonacci(10))"
   ]
  },
  {
   "cell_type": "markdown",
   "metadata": {},
   "source": [
    "## Задание 3\n"
   ]
  },
  {
   "cell_type": "markdown",
   "metadata": {},
   "source": [
    "Напишите функцию, преобразующую произвольный список вида ['2018-01-01', 'yandex', 'cpc', 100] (он может быть любой длины) в словарь {'2018-01-01': {'yandex': {'cpc': 100}}}"
   ]
  },
  {
   "cell_type": "code",
   "execution_count": null,
   "metadata": {},
   "outputs": [],
   "source": [
    "parameters = ['2018-01-01', 'yandex', 'cpc', 100]\n",
    "\n",
    "def good_dict(parameters):\n",
    "    b = len(parameters)\n",
    "    a = parameters[-1]\n",
    "    for i in reversed(range(0, b-1)):\n",
    "        a = {parameters[i]:a}\n",
    "        start_dict = a\n",
    "    return start_dict\n",
    "good_dict(parameters)  "
   ]
  },
  {
   "cell_type": "markdown",
   "metadata": {},
   "source": [
    "## Задание 4"
   ]
  },
  {
   "cell_type": "code",
   "execution_count": 3,
   "metadata": {},
   "outputs": [],
   "source": [
    "documents = [\n",
    "    {'type': 'passport', 'number': '2207 876234', 'name': 'Василий Гупкин'},\n",
    "    {'type': 'invoice', 'number': '11-2', 'name': 'Геннадий Покемонов'},\n",
    "    {'type': 'insurance', 'number': '10006', 'name': 'Аристарх Павлов'}\n",
    "]\n",
    "directories = {\n",
    "    '1': ['2207 876234', '11-2', '5455 028765'],\n",
    "    '2': ['10006', '5400 028765', '5455 002299'],\n",
    "    '3': []\n",
    "}        "
   ]
  },
  {
   "cell_type": "code",
   "execution_count": null,
   "metadata": {},
   "outputs": [],
   "source": [
    "def people(documents):\n",
    "    number_doc = input(\" введите номер документа: \")\n",
    "    for document in documents:\n",
    "        if number_doc == document['number']:\n",
    "            return document['name'] \n",
    "    else:\n",
    "        print(\"несуществующий документ\")\n",
    "people(documents)"
   ]
  },
  {
   "cell_type": "code",
   "execution_count": null,
   "metadata": {},
   "outputs": [],
   "source": [
    "def shelf(directories):\n",
    "    number_doc = input(\" введите номер документа: \")\n",
    "    for key, value in directories.items():\n",
    "        if number_doc in value:\n",
    "            directories.setdefault(key, value)\n",
    "            a = int(key)\n",
    "            b = print('номер полки документа:', a)            \n",
    "            return b       \n",
    "        else:\n",
    "            print(\"несуществующий документ\")\n",
    "            break\n",
    "shelf(directories)"
   ]
  },
  {
   "cell_type": "code",
   "execution_count": null,
   "metadata": {},
   "outputs": [],
   "source": [
    "def list_(documents):\n",
    "    user_input = input(\"введите команду:\")\n",
    "    l = user_input\n",
    "    for document in documents:\n",
    "        if user_input == l:\n",
    "            print(document['type'],document['number'], document['name'])          \n",
    "list_(documents) "
   ]
  },
  {
   "cell_type": "code",
   "execution_count": null,
   "metadata": {},
   "outputs": [],
   "source": [
    "def add_shelf(directories):\n",
    "    number_shelf = input(\" введите номер новой полки для документа:\")\n",
    "    directories.setdefault(number_shelf, [])\n",
    "    return print(\"номер новой полки документа:\", number_shelf)\n",
    "add_shelf(directories)"
   ]
  },
  {
   "cell_type": "code",
   "execution_count": null,
   "metadata": {},
   "outputs": [],
   "source": [
    "def delete(documents, directories):\n",
    "    number_doc = input(\" введите номер документа: \")\n",
    "    for document in documents:\n",
    "        if number_doc == document['number']:\n",
    "            documents.remove(document)\n",
    "            #print(documents)\n",
    "    for key, value in directories.items():\n",
    "        if number_doc in value:\n",
    "            directories.setdefault(key, value)\n",
    "            #print(directories[key])\n",
    "            value_ = directories[key]\n",
    "            value_.remove(number_doc)\n",
    "            directories[key] = value_\n",
    "            return directories \n",
    "        return print(\"несуществующий документ\")\n",
    "delete(documents, directories)\n",
    "print(documents, directories)"
   ]
  },
  {
   "cell_type": "code",
   "execution_count": null,
   "metadata": {},
   "outputs": [],
   "source": [
    "def move(directories):\n",
    "    number_doc = input(\"введите номер документа:\")\n",
    "    new_shelf = input('Введите номер новой полки:')\n",
    "    if new_shelf not in directories:\n",
    "        return 'несуществующая полка'\n",
    "    else:\n",
    "        for shelf in directories.values():\n",
    "            if number_doc in shelf:\n",
    "                shelf.remove(number_doc)\n",
    "                directories[new_shelf].append(number_doc)\n",
    "                return directories     \n",
    "        return 'несуществующий документ'\n",
    "move(directories)"
   ]
  },
  {
   "cell_type": "code",
   "execution_count": null,
   "metadata": {},
   "outputs": [],
   "source": [
    "def add(documents, directories):\n",
    "    number_doc = input(\" введите номер документа:\")\n",
    "    type_doc = input(\"введите тип документа:\")\n",
    "    name_doc = input(\"введите имя владельца документа:\")\n",
    "    number_shelf = input(\" ведите номер полки для хранения документа:\")\n",
    "    new_document = {}\n",
    "    new_document['type'] = type_doc\n",
    "    new_document['number'] = number_doc\n",
    "    new_document['name'] = name_doc \n",
    "    documents.append(new_document)\n",
    "    for key, value in directories.items():\n",
    "        if number_shelf in key:                        \n",
    "            directories[number_shelf].append(number_doc)            \n",
    "            directories        \n",
    "            return print(\"документ добавлен\")\n",
    "    return print(\"несуществующая полка\")    \n",
    "add(documents, directories)\n",
    "print(documents, directories)"
   ]
  },
  {
   "cell_type": "code",
   "execution_count": null,
   "metadata": {},
   "outputs": [],
   "source": [
    "def main(documents, directories): \n",
    "    user_input = input('Введите команду: \\\n",
    "    p - показать имя человека по номеру документа \\\n",
    "    s - показать номер полки хранения документа \\\n",
    "    l - показать список всех документов \\\n",
    "    as - добавить новую полку хранения документов \\\n",
    "    d - удалить документ по его номеру \\\n",
    "    m - переместить документ на целевую полку \\\n",
    "    a - добавить документ в каталог и в перечень полок ')\n",
    "    if user_input == 'p':\n",
    "        people(documents)\n",
    "    elif user_input == 's':\n",
    "        shelf(directories)\n",
    "    elif user_input == 'l':\n",
    "        list_(documents)\n",
    "    elif user_input == 'as':\n",
    "        add_shelf(directories)\n",
    "    elif user_input == 'd':\n",
    "        delete(documents, directories)\n",
    "    elif user_input == 'm':\n",
    "        move(directories)\n",
    "    elif user_input == 'a':\n",
    "        add(documents, directories)\n",
    "main(documents, directories)\n",
    "#print(documents, directories)"
   ]
  }
 ],
 "metadata": {
  "kernelspec": {
   "display_name": "Python 3",
   "language": "python",
   "name": "python3"
  },
  "language_info": {
   "codemirror_mode": {
    "name": "ipython",
    "version": 3
   },
   "file_extension": ".py",
   "mimetype": "text/x-python",
   "name": "python",
   "nbconvert_exporter": "python",
   "pygments_lexer": "ipython3",
   "version": "3.7.4"
  }
 },
 "nbformat": 4,
 "nbformat_minor": 2
}
