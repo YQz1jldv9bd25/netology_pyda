{
 "cells": [
  {
   "cell_type": "markdown",
   "metadata": {},
   "source": [
    "# Домашнее задание к лекции \"Регулярные выражения\"\n",
    "Для зачета необходимо выполнить 4 задания.  \n",
    "Для зачета с отличием – все."
   ]
  },
  {
   "cell_type": "markdown",
   "metadata": {},
   "source": [
    "## Задание 1"
   ]
  },
  {
   "cell_type": "markdown",
   "metadata": {},
   "source": [
    "Напишите функцию, которая принимает на вход строку и проверяет является ли она валидным транспортным номером. Если да, то функция должна возвращать отдельно номер и регион."
   ]
  },
  {
   "cell_type": "code",
   "execution_count": null,
   "metadata": {},
   "outputs": [],
   "source": [
    "import re\n",
    "def transport_number():\n",
    "    number = input('Введите транспортный номер: ')\n",
    "    regex_number = r'[А, В, Е, К, М, Н, О, Р, С, Т, X, У]{1}\\s\\d{3}\\s[А, В, Е, К, М, Н, О, Р, С, Т, X, У]{2}\\s\\d{2,3}'\n",
    "    regex_num_ = r'[А, В, Е, К, М, Н, О, Р, С, Т, X, У]{1}\\s\\d{3}\\s[А, В, Е, К, М, Н, О, Р, С, Т, X, У]{2}'\n",
    "    regex_reg = r'(?<=[А, В, Е, К, М, Н, О, Р, С, Т, X, У]{1}\\s\\d{3}\\s[А, В, Е, К, М, Н, О, Р, С, Т, X, У]{2}\\s)(\\d{2,3})'\n",
    "    number_ = re.findall(regex_num_, number)\n",
    "    region = re.findall(regex_reg, number)\n",
    "    if re.match(regex_number, number):\n",
    "        print('номер:', number_[0], 'регион:', region[0])    \n",
    "    else:\n",
    "        print('номер недействителен')\n",
    "transport_number() "
   ]
  },
  {
   "cell_type": "markdown",
   "metadata": {},
   "source": [
    "## Задание 2"
   ]
  },
  {
   "cell_type": "markdown",
   "metadata": {},
   "source": [
    "Напишите функцию, которая проверяет e-mail адрес на валидность по стандарту RFC822: http://www.w3.org/Protocols/rfc822/. Для этого постарайтесь написать (в крайнем случае найти) самый полный шаблон для проверки e-mail адресов через регулярное выражение. Разберитесь и напишите примеры, какие ваш шаблон может не охватить."
   ]
  },
  {
   "cell_type": "code",
   "execution_count": null,
   "metadata": {},
   "outputs": [],
   "source": [
    "import re\n",
    "def email():\n",
    "    email = input('Введите email:')\n",
    "    regex_mails = r'([0-9A-Za-z]{1}[-0-9A-z\\.]{1,}[0-9A-Za-z]{1})@([-A-Za-z]{1,}\\.){1}([-A-Za-z]{2,})'\n",
    "    if re.match(regex_mails, email):\n",
    "        print('The email {} is a valid email'.format(email))\n",
    "    else:\n",
    "        print('The email {} is invalid'.format(email)) \n",
    "email()\n",
    "\n",
    "# $#Bob_Woods@google.com \n",
    "# !Rob+Smith@hotmail.com\n",
    "# indambru@com2com.ru"
   ]
  },
  {
   "cell_type": "markdown",
   "metadata": {},
   "source": [
    "## Задание 3\n",
    "Напишите функцию, которая будет удалять все последовательные повторы слов из заданной строки."
   ]
  },
  {
   "cell_type": "code",
   "execution_count": null,
   "metadata": {},
   "outputs": [],
   "source": [
    "import re\n",
    "def rереаt():\n",
    "    string_ = input('Ведите строку:')\n",
    "    result = re.sub(r'\\b([^\\W\\d_]+)(\\s+\\1)+\\b', r'\\1', re.sub(r'\\W+\\.\\,', ' ', string_).strip(), flags=re.I)\n",
    "    return result\n",
    "rереаt()"
   ]
  },
  {
   "cell_type": "markdown",
   "metadata": {},
   "source": [
    "## Задание 4\n",
    "Напишите функцию, которая будет проверять номер сотового телефона на валидность, если он валиден, то переводить его в формат:   \n",
    "+7(xxx)-xxx-xx-xx  \n",
    "Постарайтесь предусмотреть как можно больше адекватных форматов изначального ввода номера.\n",
    "Примеры правильных и неправильных форматов:\n",
    "- +7 955 555-55-55;\n",
    "- 955555555;\n",
    "- 8(955)555-55-55;\n",
    "- +7 955 555 55 55;\n",
    "- 7(955) 555-55-55;\n",
    "- +7 955+555+55+55."
   ]
  },
  {
   "cell_type": "code",
   "execution_count": null,
   "metadata": {},
   "outputs": [],
   "source": [
    "import re\n",
    "def telephone_number():\n",
    "    number = input('Введите номер сотового телефона:')\n",
    "    regex_num = '[^\\d]*'    \n",
    "    res = re.sub(regex_num, '', number)\n",
    "    if len(res) == 11 and res[0] == '7' or res[0] == '8':\n",
    "        print('+7''(',res[1:4],')''-',res[4:7],'-',res[7:9],'-',res[9:11])\n",
    "    elif len(res) == 10 and res[0] == '9':\n",
    "        print('+7''(',res[0:3],')''-',res[3:6],'-',res[6:8],'-',res[8:10])\n",
    "    else:\n",
    "        print('неправильно набран номер')\n",
    "telephone_number()"
   ]
  }
 ],
 "metadata": {
  "kernelspec": {
   "display_name": "Python 3",
   "language": "python",
   "name": "python3"
  },
  "language_info": {
   "codemirror_mode": {
    "name": "ipython",
    "version": 3
   },
   "file_extension": ".py",
   "mimetype": "text/x-python",
   "name": "python",
   "nbconvert_exporter": "python",
   "pygments_lexer": "ipython3",
   "version": "3.7.4"
  }
 },
 "nbformat": 4,
 "nbformat_minor": 2
}
