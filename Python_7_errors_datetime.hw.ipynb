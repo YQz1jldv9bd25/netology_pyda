{
 "cells": [
  {
   "cell_type": "code",
   "execution_count": null,
   "metadata": {},
   "outputs": [],
   "source": [
    "from datetime import datetime \n",
    "from datetime import timedelta\n",
    "def date_range():\n",
    "    start_date = input('Введите начальную дату в формате YYYY-MM-DD:')\n",
    "    end_date = input('Введите конечную дату в формате YYYY-MM-DD:')\n",
    "    range_ = int(end_date[8:10]) - int(start_date[8:10])\n",
    "    start_date_dt = datetime.strptime(start_date, '%Y-%m-%d')\n",
    "    list_ = [(start_date_dt + timedelta(days=x)).strftime('%Y-%m-%d') for x in range(range_)]\n",
    "    del(list_[0])\n",
    "    return list_\n",
    "date_range()"
   ]
  },
  {
   "cell_type": "code",
   "execution_count": null,
   "metadata": {},
   "outputs": [],
   "source": [
    "import re\n",
    "from datetime import datetime \n",
    "from datetime import timedelta\n",
    "def date_range():\n",
    "    start_date = input('Введите начальную дату в формате YYYY-MM-DD:')\n",
    "    end_date = input('Введите конечную дату в формате YYYY-MM-DD:')\n",
    "    date = '\\d{4}\\-\\d{2}\\-\\d{2}'\n",
    "    list_ = []\n",
    "    if re.match(date, start_date) and re.match(date, end_date) and len(start_date) == 10 and len(end_date) == 10 and (end_date > start_date) == True:\n",
    "        range_ = int(end_date[8:10]) - int(start_date[8:10])\n",
    "        start_date_dt = datetime.strptime(start_date, '%Y-%m-%d')\n",
    "        list_ = [(start_date_dt + timedelta(days=x)).strftime('%Y-%m-%d') for x in range(range_)]\n",
    "        del(list_[0])\n",
    "    return list_\n",
    "date_range()"
   ]
  },
  {
   "cell_type": "code",
   "execution_count": null,
   "metadata": {},
   "outputs": [],
   "source": [
    "import re\n",
    "stream = ['2018-04-02', '2018-02-29', '2018-19-02']\n",
    "def date_(stream):\n",
    "    reg = '[0-9]{4}-(0[1-9]|1[0-2])-(0[1-9]|[1-2][0-9]|3[0-1])'    \n",
    "    for date in stream:\n",
    "        if (re.match(reg, date) and int(date[5:7]) != 2) or (re.match(reg, date) \n",
    "            and int(date[5:7]) == 2 and (1 <= int(date[8:10]) <= 28)):\n",
    "            print(date, True)\n",
    "        else:\n",
    "            print(date, False)\n",
    "date_(stream)"
   ]
  },
  {
   "cell_type": "code",
   "execution_count": null,
   "metadata": {},
   "outputs": [],
   "source": [
    "1. Ошибка 'list index out of range' означает, что индекс списка за пределами\n",
    "диапазона списка.\n",
    "2. Потому, что после первого запуска функции список уменьшается на одно удаленное \n",
    "значение, при этом список заданных параметров функции не меняется, при \n",
    "повторном запуске функция обращается к заданному, но несуществующему значению \n",
    "(ранее удаленное значение)."
   ]
  }
 ],
 "metadata": {
  "kernelspec": {
   "display_name": "Python 3",
   "language": "python",
   "name": "python3"
  },
  "language_info": {
   "codemirror_mode": {
    "name": "ipython",
    "version": 3
   },
   "file_extension": ".py",
   "mimetype": "text/x-python",
   "name": "python",
   "nbconvert_exporter": "python",
   "pygments_lexer": "ipython3",
   "version": "3.7.4"
  }
 },
 "nbformat": 4,
 "nbformat_minor": 2
}
