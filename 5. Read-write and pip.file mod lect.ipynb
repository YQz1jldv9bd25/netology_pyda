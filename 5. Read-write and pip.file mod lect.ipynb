{
 "cells": [
  {
   "cell_type": "code",
   "execution_count": null,
   "metadata": {},
   "outputs": [],
   "source": [
    "import json\n",
    "purchases = {}\n",
    "with open('purchase_log.txt', encoding='utf-8') as f:\n",
    "    f.readline()\n",
    "    for line in f:\n",
    "        line = line.strip()        \n",
    "        dict_ = json.loads(line)       \n",
    "        #print(dict_['user_id'], dict_['category'])               \n",
    "        purchases[dict_['user_id']] = dict_['category']\n",
    "        purchases  "
   ]
  },
  {
   "cell_type": "code",
   "execution_count": null,
   "metadata": {},
   "outputs": [],
   "source": [
    "with open('visit_log.csv', encoding='utf-8') as f:    \n",
    "    with open('visit_log_v2.csv', 'w', encoding='utf-8') as output:        \n",
    "        f.readline()        \n",
    "        for line in f:\n",
    "            line = line.strip().split(',')\n",
    "            user_id = line[0]\n",
    "            if user_id in purchases:\n",
    "                category = purchases[user_id]\n",
    "                output.write(','.join(line) + ',' + category + '\\n')"
   ]
  },
  {
   "cell_type": "code",
   "execution_count": null,
   "metadata": {},
   "outputs": [],
   "source": [
    "with open('visit_log.csv', encoding='utf-8') as f:\n",
    "    with open('visit_log_v2.csv', 'w', encoding='utf-8') as output:\n",
    "        with open('funnel.csv', 'w', encoding='utf-8') as output_:    \n",
    "            f.readline()                \n",
    "            for line in f:\n",
    "                line = line.strip().split(',')\n",
    "                user_id = line[0]\n",
    "                if user_id in purchases:\n",
    "                    category = purchases[user_id]\n",
    "                    output.write(','.join(line) + ',' + category + '\\n')\n",
    "                    output_.write(','.join(line) + ',' + category + '\\n')"
   ]
  }
 ],
 "metadata": {
  "kernelspec": {
   "display_name": "Python 3",
   "language": "python",
   "name": "python3"
  },
  "language_info": {
   "codemirror_mode": {
    "name": "ipython",
    "version": 3
   },
   "file_extension": ".py",
   "mimetype": "text/x-python",
   "name": "python",
   "nbconvert_exporter": "python",
   "pygments_lexer": "ipython3",
   "version": "3.7.4"
  }
 },
 "nbformat": 4,
 "nbformat_minor": 2
}
