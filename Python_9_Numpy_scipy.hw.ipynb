{
 "cells": [
  {
   "cell_type": "code",
   "execution_count": null,
   "metadata": {},
   "outputs": [],
   "source": [
    "import numpy as np\n",
    "x = np.arange(10)\n",
    "x[::-1]"
   ]
  },
  {
   "cell_type": "code",
   "execution_count": null,
   "metadata": {},
   "outputs": [],
   "source": [
    "np.diag(np.arange(10), k=0)\n",
    "x = np.diag(np.arange(10), k=0)\n",
    "x[::-1, ::-1]\n",
    "sum(x.diagonal())"
   ]
  },
  {
   "cell_type": "code",
   "execution_count": null,
   "metadata": {},
   "outputs": [],
   "source": [
    "from numpy import linalg\n",
    "a = np.array([[4, 2, 1], [1, 3, 0], [0, 5, 4]])\n",
    "b = np.array([4, 12, -3])\n",
    "solve_ = linalg.solve(a, b)\n",
    "x = round((solve_[0]),2)\n",
    "y = round((solve_[1]),2)\n",
    "z = round((solve_[2]),2)\n",
    "print('x =',x, 'y =',y, 'z =',z)"
   ]
  },
  {
   "cell_type": "code",
   "execution_count": null,
   "metadata": {},
   "outputs": [],
   "source": [
    "next_user_stats = np.array([0, 1, 2, 0, 0, 0])\n",
    "cosine_ = []\n",
    "next_user_statsLength = np.linalg.norm(next_user_stats)\n",
    "for user in users_stats:\n",
    "    cosine = np.dot(user, next_user_stats) / (np.linalg.norm(user) * next_user_statsLength)\n",
    "    cosine_.append(cosine)\n",
    "max(cosine_)\n",
    "cosine_.index(max(cosine_))\n",
    "print('Самый похожий пользователь:', users_stats[cosine_.index(max(cosine_))])"
   ]
  }
 ],
 "metadata": {
  "kernelspec": {
   "display_name": "Python 3",
   "language": "python",
   "name": "python3"
  },
  "language_info": {
   "codemirror_mode": {
    "name": "ipython",
    "version": 3
   },
   "file_extension": ".py",
   "mimetype": "text/x-python",
   "name": "python",
   "nbconvert_exporter": "python",
   "pygments_lexer": "ipython3",
   "version": "3.7.4"
  }
 },
 "nbformat": 4,
 "nbformat_minor": 2
}
