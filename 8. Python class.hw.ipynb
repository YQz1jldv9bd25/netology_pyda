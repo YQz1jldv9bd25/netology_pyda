{
 "cells": [
  {
   "cell_type": "code",
   "execution_count": null,
   "metadata": {},
   "outputs": [],
   "source": [
    "import requests\n",
    "def max_exchange_rates_():\n",
    "    def exchange_rates():\n",
    "        data = requests.get('https://www.cbr-xml-daily.ru/daily_json.js')\n",
    "        return data.json()['Valute']\n",
    "    exchange_rates()\n",
    "    division = []\n",
    "    for code, currency_data in exchange_rates().items():\n",
    "        division_ = currency_data['Value']/currency_data['Nominal']\n",
    "        division.append(division_)\n",
    "    for code, currency_data in exchange_rates().items():\n",
    "        if max(division) == currency_data['Value']/currency_data['Nominal']:                                                       \n",
    "            print(currency_data['Name'], currency_data['Value'])\n",
    "max_exchange_rates_()"
   ]
  },
  {
   "cell_type": "code",
   "execution_count": null,
   "metadata": {},
   "outputs": [],
   "source": [
    "import requests\n",
    "class Rate:\n",
    "    def __init__(self, format_='value', diff=True):\n",
    "        self.format = format_    \n",
    "    def exchange_rates(self):        \n",
    "        self.r = requests.get('https://www.cbr-xml-daily.ru/daily_json.js')\n",
    "        return self.r.json()['Valute']    \n",
    "    def make_format(self,  currency):        \n",
    "        response = self.exchange_rates()        \n",
    "        if currency in response:\n",
    "            if self.format == 'full':\n",
    "                return response[currency]\n",
    "            if self.format == 'value':\n",
    "                name = response[currency]['Name']\n",
    "                return print(name,'изменение по сравнению c прошлым значением',round((response[currency]['Value'] - response[currency]['Previous']),2))                \n",
    "        return 'Error'    \n",
    "    def eur(self):\n",
    "        return self.make_format('EUR')    \n",
    "    def usd(self):\n",
    "        return self.make_format('USD')    \n",
    "    def brl(self):\n",
    "        return self.make_format('BRL')\n",
    "r = Rate(format_='value')\n",
    "r.usd()\n",
    "r.eur()"
   ]
  },
  {
   "cell_type": "code",
   "execution_count": null,
   "metadata": {},
   "outputs": [],
   "source": [
    "class Desiner:\n",
    "    def __init__(self, name, seniority, awards=2):\n",
    "        self.name = name\n",
    "        self.seniority = seniority\n",
    "        self.awards = awards\n",
    "        self.grade = 0\n",
    "        self.seniority_ = seniority + 2*awards\n",
    "\n",
    "    def grade_up(self):\n",
    "        self.grade += 1\n",
    "    \n",
    "    def publish_grade(self):\n",
    "        print(self.name, self.grade)\n",
    "    \n",
    "    def check_if_it_is_time_for_upgrade(self):        \n",
    "        self.seniority_ += 1\n",
    "        if self.seniority_ % 7 == 0:\n",
    "            self.grade_up()\n",
    "        return self.publish_grade()\n",
    "        \n",
    "elena = Designer('Елена', seniority=0, awards=2)\n",
    "elena\n",
    "for i in range(20):\n",
    "    elena.check_if_it_is_time_for_upgrade()   "
   ]
  }
 ],
 "metadata": {
  "kernelspec": {
   "display_name": "Python 3",
   "language": "python",
   "name": "python3"
  },
  "language_info": {
   "codemirror_mode": {
    "name": "ipython",
    "version": 3
   },
   "file_extension": ".py",
   "mimetype": "text/x-python",
   "name": "python",
   "nbconvert_exporter": "python",
   "pygments_lexer": "ipython3",
   "version": "3.7.4"
  }
 },
 "nbformat": 4,
 "nbformat_minor": 2
}
